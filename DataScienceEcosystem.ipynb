{
 "cells": [
  {
   "cell_type": "markdown",
   "id": "e84ed7ef-f0e6-4763-806d-613142471790",
   "metadata": {},
   "source": [
    "# Data Science Tools and Ecosystem"
   ]
  },
  {
   "cell_type": "markdown",
   "id": "a26dab8d-5d18-4097-946b-6947f37cfcc6",
   "metadata": {},
   "source": [
    "## Introduction\n",
    "In this notebook, Data Science Tools and Ecosystem are summarized."
   ]
  },
  {
   "cell_type": "markdown",
   "id": "b4a6952d-220a-4c60-acdc-e6bca88ae26f",
   "metadata": {},
   "source": [
    "### **Objectives:**\n",
    "- Data Science Languages\n",
    "- Data Science Libraries\n",
    "- Data Science Tools"
   ]
  },
  {
   "cell_type": "markdown",
   "id": "3adde07c-7f27-40c5-bdd4-78eea8e06969",
   "metadata": {},
   "source": [
    "### Data Science Languages\n",
    "Some of the popular languages that Data Scientists use are:\n",
    "1. Python\n",
    "2. R\n",
    "3. SQL\n",
    "4. Scala\n",
    "5. Julia"
   ]
  },
  {
   "cell_type": "markdown",
   "id": "f9b4ff7f-f320-4994-9bdf-8c52cf2097ac",
   "metadata": {},
   "source": [
    "### Data Science Libraries\n",
    "Some of the commonly used libraries used by Data Scientists include:\n",
    "1. Numpy\n",
    "2. Pandas\n",
    "3. Matplotlib\n",
    "4. Seaborn\n",
    "5. Scikit-learn\n",
    "6. TensorFlow\n",
    "7. Keras\n",
    "8. PyTorch"
   ]
  },
  {
   "cell_type": "markdown",
   "id": "eca9507d-b75a-40ae-98cc-7c49fc66eb3b",
   "metadata": {},
   "source": [
    "### Data Science Tools\n",
    "| **Data Science Tools**          |\n",
    "|---------------------------------|\n",
    "| Jupyter Notebook / JupyterLab   |\n",
    "| R Studio                        |\n",
    "| Apache Zeppelin                 |"
   ]
  },
  {
   "cell_type": "markdown",
   "id": "00d01528-c7a7-476c-8360-61eada48e264",
   "metadata": {},
   "source": [
    " ### Arithmetic Expression Examples\n",
    " ### Below are a few examples of evaluating arithmetic expressions in Python\n",
    "- Addition = num_one + num_two\n",
    "- subtraction  = num_one - num_two\n",
    "- product = num_one * num_two\n",
    "- division = num_one / num_two\n",
    "- remainder = num_two % num_one\n",
    "- exponential = num_two ** num_one\n",
    "- floor_division = num_one // num_two"
   ]
  },
  {
   "cell_type": "code",
   "execution_count": 21,
   "id": "3298dc63-21cf-4f3d-8904-2238edbb5684",
   "metadata": {},
   "outputs": [
    {
     "data": {
      "text/plain": [
       "17"
      ]
     },
     "execution_count": 21,
     "metadata": {},
     "output_type": "execute_result"
    }
   ],
   "source": [
    "# This a simple arithmetic expression to mutiply then add integers\n",
    "(3*4)+5"
   ]
  },
  {
   "cell_type": "code",
   "execution_count": 23,
   "id": "8e6e3235-69ed-4ad8-8c35-fca25064c74a",
   "metadata": {},
   "outputs": [
    {
     "data": {
      "text/plain": [
       "3.3333333333333335"
      ]
     },
     "execution_count": 23,
     "metadata": {},
     "output_type": "execute_result"
    }
   ],
   "source": [
    "# This will convert 200 minutes to hours by diving by 60\n",
    "minutes = 200\n",
    "hours = minutes / 60\n",
    "hours"
   ]
  },
  {
   "cell_type": "markdown",
   "id": "f762ba13-b7e3-4b43-9824-e39c86c3dd4c",
   "metadata": {},
   "source": [
    "## Author\n",
    "ABUBAKAR HAMISU ZANGO"
   ]
  },
  {
   "cell_type": "code",
   "execution_count": null,
   "id": "f4367a11-8486-4be2-9bc0-544dbf97c994",
   "metadata": {},
   "outputs": [],
   "source": []
  }
 ],
 "metadata": {
  "kernelspec": {
   "display_name": "Python [conda env:anaconda3] *",
   "language": "python",
   "name": "conda-env-anaconda3-py"
  },
  "language_info": {
   "codemirror_mode": {
    "name": "ipython",
    "version": 3
   },
   "file_extension": ".py",
   "mimetype": "text/x-python",
   "name": "python",
   "nbconvert_exporter": "python",
   "pygments_lexer": "ipython3",
   "version": "3.12.7"
  }
 },
 "nbformat": 4,
 "nbformat_minor": 5
}
